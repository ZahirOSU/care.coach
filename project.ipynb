{
 "cells": [
  {
   "cell_type": "code",
   "execution_count": 62,
   "id": "f17211cb",
   "metadata": {},
   "outputs": [],
   "source": [
    "import numpy as np \n",
    "from scipy.spatial.distance import cdist   \n",
    "from matplotlib import pyplot as plt \n",
    "\n",
    "%matplotlib inline"
   ]
  },
  {
   "cell_type": "markdown",
   "id": "16a9f35f",
   "metadata": {},
   "source": [
    "# Question 1 \n",
    "\n",
    "change the code below to make the data distribution of x closer to this image\n",
    "\n",
    "<img src=\"upperleft.png\" height=500 width=500>"
   ]
  },
  {
   "cell_type": "code",
   "execution_count": 110,
   "id": "db8877c1",
   "metadata": {},
   "outputs": [
    {
     "data": {
      "image/png": "[encoded data removed]",
      "text/plain": [
       "<Figure size 432x288 with 1 Axes>"
      ]
     },
     "metadata": {
      "needs_background": "light"
     },
     "output_type": "display_data"
    }
   ],
   "source": [
    "# Question 1:\n",
    "\n",
    "pts = 50\n",
    "\n",
    "rng = np.random.default_rng()\n",
    "\n",
    "a = rng.multivariate_normal(\n",
    "    mean=[3,3], \n",
    "    cov=[[1,0],\n",
    "         [0,1]], \n",
    "    size=pts,\n",
    ")\n",
    "\n",
    "b = rng.multivariate_normal(\n",
    "    mean=[0,0], \n",
    "    cov=[[1,0],\n",
    "         [0,1]], \n",
    "    size=pts,\n",
    ")\n",
    "\n",
    "x = np.concatenate((a, b))\n",
    "\n",
    "# Plot data \n",
    "plt.scatter(x[:, 0], x[:, 1])\n",
    "plt.xlabel(\"x0\")\n",
    "plt.ylabel(\"x1\")\n",
    "plt.show()"
   ]
  },
  {
   "cell_type": "markdown",
   "id": "de62a872",
   "metadata": {},
   "source": [
    "# Question 2\n",
    "\n",
    "Fix the bug in this k-mean clustering function and then plot the resulting color labeled clusters"
   ]
  },
  {
   "cell_type": "code",
   "execution_count": null,
   "id": "d7a23a30",
   "metadata": {},
   "outputs": [],
   "source": [
    "# Question 2:\n",
    "\n",
    "def kmeans(x, k, no_of_iterations):  \n",
    "    \n",
    "    \"\"\" Function to implement k-means clustering \n",
    "    # x is a (num_samples, 2) numpy array \n",
    "    # k is number of clusters \n",
    "    # no_of_iterations is the number of iterations to run k means\n",
    "    \"\"\"\n",
    "    \n",
    "    idx = np.random.choice(len(x), k, replace=False)     \n",
    "    #Randomly choosing Centroids     \n",
    "    \n",
    "    centroids = x[idx, :]       \n",
    "    distances = cdist(x, centroids ,'euclidean')          \n",
    "    points = np.array([np.argmax(i) for i in distances])  \n",
    "    \n",
    "    for _ in range(no_of_iterations):  \n",
    "        \n",
    "        centroids = []      \n",
    "        \n",
    "        for idx in range(k):     \n",
    "            \n",
    "            temp_cent = x[points==idx].mean(axis=1)   \n",
    "            centroids.append(temp_cent) \n",
    "            centroids = np.vstack(centroids)  \n",
    "            distances = cdist(x, centroids ,'euclidean')    \n",
    "            \n",
    "        points = np.array([np.argmax(i) for i in distances])              \n",
    "            \n",
    "    return points\n",
    "\n",
    "points = kmeans(x,k=2,no_of_iterations=10)\n",
    "\n",
    "cluster1 = x[points==0,:]\n",
    "cluster2 = x[points==1,:]\n",
    "\n",
    "# Plot data \n",
    "plt.scatter(cluster1[:, 0], cluster1[:, 1])\n",
    "plt.scatter(cluster2[:, 0], cluster2[:, 1])\n",
    "plt.xlabel(\"x0\")\n",
    "plt.ylabel(\"x1\")\n",
    "plt.show()"
   ]
  },
  {
   "cell_type": "code",
   "execution_count": null,
   "id": "eff03297",
   "metadata": {},
   "outputs": [],
   "source": []
  }
 ],
 "metadata": {
  "kernelspec": {
   "display_name": "Python 3 (ipykernel)",
   "language": "python",
   "name": "python3"
  },
  "language_info": {
   "codemirror_mode": {
    "name": "ipython",
    "version": 3
   },
   "file_extension": ".py",
   "mimetype": "text/x-python",
   "name": "python",
   "nbconvert_exporter": "python",
   "pygments_lexer": "ipython3",
   "version": "3.8.13"
  }
 },
 "nbformat": 4,
 "nbformat_minor": 5
}
